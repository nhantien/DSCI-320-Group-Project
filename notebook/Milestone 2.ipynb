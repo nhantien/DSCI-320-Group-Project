{
 "cells": [
  {
   "cell_type": "code",
   "execution_count": 1,
   "id": "c8328d14-6d19-489d-aa3d-cadd8d3a6f6d",
   "metadata": {},
   "outputs": [
    {
     "data": {
      "text/plain": [
       "DataTransformerRegistry.enable('data_server')"
      ]
     },
     "execution_count": 1,
     "metadata": {},
     "output_type": "execute_result"
    }
   ],
   "source": [
    "import numpy as np\n",
    "import pandas as pd\n",
    "import altair as alt\n",
    "from altair import datum\n",
    "import ast\n",
    "from datetime import datetime\n",
    "\n",
    "\n",
    "# Handle large data sets without embedding them in the notebook\n",
    "alt.data_transformers.enable('data_server')\n",
    "# # Include an image for each plot since Gradescope only supports displaying plots as images\n",
    "# alt.renderers.enable('mimetype')"
   ]
  },
  {
   "cell_type": "code",
   "execution_count": 2,
   "id": "bb9184e9-4978-4f8e-af2a-4b44c70d0e8e",
   "metadata": {},
   "outputs": [],
   "source": [
    "url = \"https://github.com/kemiolamudzengi/dsci-320-datasets/blob/main/amazon_conlit_goodreads_nyt.csv?raw=true\"\n",
    "books = pd.read_csv(url, parse_dates=['amazon_year', 'conlit_pubdate', 'nyt_published_date',\n",
    "                                      'goodreads_publish_date', 'goodreads_first_publish_date'\n",
    "                                     ] )"
   ]
  },
  {
   "cell_type": "markdown",
   "id": "2371af93-8d35-4cfc-b6e3-0bfb6de3ac69",
   "metadata": {},
   "source": [
    "## Task 2"
   ]
  },
  {
   "cell_type": "code",
   "execution_count": 3,
   "id": "43e7cdf6-5c4c-428d-9915-93522ec8d42d",
   "metadata": {},
   "outputs": [],
   "source": [
    "books['conlit_pubyear'] = books['conlit_pubdate'].dt.year\n",
    "\n",
    "dropdown_options = sorted(\n",
    "    books['conlit_pubyear'].dropna().unique(), \n",
    "    reverse=True\n",
    ")\n",
    "\n",
    "year_selector = alt.binding_select(\n",
    "    options=dropdown_options,\n",
    "    name = 'Year: '\n",
    ")\n",
    "year_dropdown = alt.selection_single(\n",
    "    fields=['conlit_pubyear'], \n",
    "    bind=year_selector\n",
    ")\n",
    "## line chart over time\n",
    "\n",
    "genre_line = alt.Chart(books.dropna(subset=['conlit_genre'])).mark_line().encode(\n",
    "    alt.X('year(conlit_pubdate):O'),\n",
    "    alt.Y('count()'),\n",
    "    alt.Color('conlit_genre')\n",
    ").properties(\n",
    "    width = 600,\n",
    "    height = 250\n",
    ")\n",
    "# bar chart\n",
    "genre_bar = alt.Chart(books.dropna(subset=['conlit_genre'])).transform_filter(\n",
    "    year_dropdown\n",
    ").mark_bar().encode(\n",
    "    alt.X('count()', axis=alt.Axis(tickMinStep=1)),\n",
    "    alt.Y('conlit_genre', sort='-x')\n",
    ").add_selection(\n",
    "    year_dropdown\n",
    ").properties(\n",
    "    width=600,\n",
    "    height=250\n",
    ")"
   ]
  },
  {
   "cell_type": "code",
   "execution_count": 4,
   "id": "2699ca27-00d3-47c1-8586-e5df1d7da7e7",
   "metadata": {},
   "outputs": [
    {
     "data": {
      "text/html": [
       "\n",
       "<div id=\"altair-viz-fc9b928c4e4140dfb08c21c02dc35167\"></div>\n",
       "<script type=\"text/javascript\">\n",
       "  var VEGA_DEBUG = (typeof VEGA_DEBUG == \"undefined\") ? {} : VEGA_DEBUG;\n",
       "  (function(spec, embedOpt){\n",
       "    let outputDiv = document.currentScript.previousElementSibling;\n",
       "    if (outputDiv.id !== \"altair-viz-fc9b928c4e4140dfb08c21c02dc35167\") {\n",
       "      outputDiv = document.getElementById(\"altair-viz-fc9b928c4e4140dfb08c21c02dc35167\");\n",
       "    }\n",
       "    const paths = {\n",
       "      \"vega\": \"https://cdn.jsdelivr.net/npm//vega@5?noext\",\n",
       "      \"vega-lib\": \"https://cdn.jsdelivr.net/npm//vega-lib?noext\",\n",
       "      \"vega-lite\": \"https://cdn.jsdelivr.net/npm//vega-lite@4.17.0?noext\",\n",
       "      \"vega-embed\": \"https://cdn.jsdelivr.net/npm//vega-embed@6?noext\",\n",
       "    };\n",
       "\n",
       "    function maybeLoadScript(lib, version) {\n",
       "      var key = `${lib.replace(\"-\", \"\")}_version`;\n",
       "      return (VEGA_DEBUG[key] == version) ?\n",
       "        Promise.resolve(paths[lib]) :\n",
       "        new Promise(function(resolve, reject) {\n",
       "          var s = document.createElement('script');\n",
       "          document.getElementsByTagName(\"head\")[0].appendChild(s);\n",
       "          s.async = true;\n",
       "          s.onload = () => {\n",
       "            VEGA_DEBUG[key] = version;\n",
       "            return resolve(paths[lib]);\n",
       "          };\n",
       "          s.onerror = () => reject(`Error loading script: ${paths[lib]}`);\n",
       "          s.src = paths[lib];\n",
       "        });\n",
       "    }\n",
       "\n",
       "    function showError(err) {\n",
       "      outputDiv.innerHTML = `<div class=\"error\" style=\"color:red;\">${err}</div>`;\n",
       "      throw err;\n",
       "    }\n",
       "\n",
       "    function displayChart(vegaEmbed) {\n",
       "      vegaEmbed(outputDiv, spec, embedOpt)\n",
       "        .catch(err => showError(`Javascript Error: ${err.message}<br>This usually means there's a typo in your chart specification. See the javascript console for the full traceback.`));\n",
       "    }\n",
       "\n",
       "    if(typeof define === \"function\" && define.amd) {\n",
       "      requirejs.config({paths});\n",
       "      require([\"vega-embed\"], displayChart, err => showError(`Error loading script: ${err.message}`));\n",
       "    } else {\n",
       "      maybeLoadScript(\"vega\", \"5\")\n",
       "        .then(() => maybeLoadScript(\"vega-lite\", \"4.17.0\"))\n",
       "        .then(() => maybeLoadScript(\"vega-embed\", \"6\"))\n",
       "        .catch(showError)\n",
       "        .then(() => displayChart(vegaEmbed));\n",
       "    }\n",
       "  })({\"config\": {\"view\": {\"continuousWidth\": 400, \"continuousHeight\": 300}}, \"vconcat\": [{\"data\": {\"url\": \"http://localhost:54390/365ea4f0a22278e33c206d3d5e5a3640.json\"}, \"mark\": \"line\", \"encoding\": {\"color\": {\"field\": \"conlit_genre\", \"type\": \"nominal\"}, \"x\": {\"field\": \"conlit_pubdate\", \"timeUnit\": \"year\", \"type\": \"ordinal\"}, \"y\": {\"aggregate\": \"count\", \"type\": \"quantitative\"}}, \"height\": 250, \"width\": 600}, {\"data\": {\"url\": \"http://localhost:54390/365ea4f0a22278e33c206d3d5e5a3640.json\"}, \"mark\": \"bar\", \"encoding\": {\"x\": {\"aggregate\": \"count\", \"axis\": {\"tickMinStep\": 1}, \"type\": \"quantitative\"}, \"y\": {\"field\": \"conlit_genre\", \"sort\": \"-x\", \"type\": \"nominal\"}}, \"height\": 250, \"selection\": {\"selector001\": {\"type\": \"single\", \"fields\": [\"conlit_pubyear\"], \"bind\": {\"input\": \"select\", \"options\": [2017.0, 2016.0, 2015.0, 2014.0, 2013.0, 2012.0, 2011.0, 2010.0, 2009.0, 2008.0, 2007.0, 2006.0, 2005.0], \"name\": \"Year: \"}}}, \"transform\": [{\"filter\": {\"selection\": \"selector001\"}}], \"width\": 600}], \"$schema\": \"https://vega.github.io/schema/vega-lite/v4.17.0.json\"}, {\"mode\": \"vega-lite\"});\n",
       "</script>"
      ],
      "text/plain": [
       "alt.VConcatChart(...)"
      ]
     },
     "execution_count": 4,
     "metadata": {},
     "output_type": "execute_result"
    }
   ],
   "source": [
    "genre_line & genre_bar"
   ]
  },
  {
   "cell_type": "markdown",
   "id": "646809f7-965f-46c2-a8f0-daa8428e31bd",
   "metadata": {},
   "source": [
    "## Task 6"
   ]
  },
  {
   "cell_type": "code",
   "execution_count": 5,
   "id": "e9dbe4b6-5461-4ee4-9ec6-d1f36a20bb97",
   "metadata": {},
   "outputs": [
    {
     "data": {
      "text/html": [
       "\n",
       "<div id=\"altair-viz-1bcc3ad91cf745b5aa5965a30306eddc\"></div>\n",
       "<script type=\"text/javascript\">\n",
       "  var VEGA_DEBUG = (typeof VEGA_DEBUG == \"undefined\") ? {} : VEGA_DEBUG;\n",
       "  (function(spec, embedOpt){\n",
       "    let outputDiv = document.currentScript.previousElementSibling;\n",
       "    if (outputDiv.id !== \"altair-viz-1bcc3ad91cf745b5aa5965a30306eddc\") {\n",
       "      outputDiv = document.getElementById(\"altair-viz-1bcc3ad91cf745b5aa5965a30306eddc\");\n",
       "    }\n",
       "    const paths = {\n",
       "      \"vega\": \"https://cdn.jsdelivr.net/npm//vega@5?noext\",\n",
       "      \"vega-lib\": \"https://cdn.jsdelivr.net/npm//vega-lib?noext\",\n",
       "      \"vega-lite\": \"https://cdn.jsdelivr.net/npm//vega-lite@4.17.0?noext\",\n",
       "      \"vega-embed\": \"https://cdn.jsdelivr.net/npm//vega-embed@6?noext\",\n",
       "    };\n",
       "\n",
       "    function maybeLoadScript(lib, version) {\n",
       "      var key = `${lib.replace(\"-\", \"\")}_version`;\n",
       "      return (VEGA_DEBUG[key] == version) ?\n",
       "        Promise.resolve(paths[lib]) :\n",
       "        new Promise(function(resolve, reject) {\n",
       "          var s = document.createElement('script');\n",
       "          document.getElementsByTagName(\"head\")[0].appendChild(s);\n",
       "          s.async = true;\n",
       "          s.onload = () => {\n",
       "            VEGA_DEBUG[key] = version;\n",
       "            return resolve(paths[lib]);\n",
       "          };\n",
       "          s.onerror = () => reject(`Error loading script: ${paths[lib]}`);\n",
       "          s.src = paths[lib];\n",
       "        });\n",
       "    }\n",
       "\n",
       "    function showError(err) {\n",
       "      outputDiv.innerHTML = `<div class=\"error\" style=\"color:red;\">${err}</div>`;\n",
       "      throw err;\n",
       "    }\n",
       "\n",
       "    function displayChart(vegaEmbed) {\n",
       "      vegaEmbed(outputDiv, spec, embedOpt)\n",
       "        .catch(err => showError(`Javascript Error: ${err.message}<br>This usually means there's a typo in your chart specification. See the javascript console for the full traceback.`));\n",
       "    }\n",
       "\n",
       "    if(typeof define === \"function\" && define.amd) {\n",
       "      requirejs.config({paths});\n",
       "      require([\"vega-embed\"], displayChart, err => showError(`Error loading script: ${err.message}`));\n",
       "    } else {\n",
       "      maybeLoadScript(\"vega\", \"5\")\n",
       "        .then(() => maybeLoadScript(\"vega-lite\", \"4.17.0\"))\n",
       "        .then(() => maybeLoadScript(\"vega-embed\", \"6\"))\n",
       "        .catch(showError)\n",
       "        .then(() => displayChart(vegaEmbed));\n",
       "    }\n",
       "  })({\"config\": {\"view\": {\"continuousWidth\": 400, \"continuousHeight\": 300}}, \"hconcat\": [{\"data\": {\"url\": \"http://localhost:54390/3cc7f8ad94be61751dd8b6b13413ab13.json\"}, \"mark\": \"circle\", \"encoding\": {\"x\": {\"axis\": {\"title\": \"Amazon Reviews\"}, \"field\": \"amazon_num_reviews\", \"type\": \"quantitative\"}, \"y\": {\"axis\": {\"title\": \"Goodreads Reviews\"}, \"field\": \"goodreads_num_ratings\", \"type\": \"quantitative\"}}, \"selection\": {\"selector002\": {\"type\": \"interval\", \"resolve\": \"global\"}}, \"title\": \"Number of Goodreads Reviews vs Number of Amazon Reviews\"}, {\"repeat\": [\"amazon_rating\", \"goodreads_rating\"], \"spec\": {\"data\": {\"url\": \"http://localhost:54390/3cc7f8ad94be61751dd8b6b13413ab13.json\"}, \"mark\": \"bar\", \"encoding\": {\"x\": {\"bin\": {\"maxbins\": 30}, \"field\": {\"repeat\": \"repeat\"}, \"type\": \"quantitative\"}, \"y\": {\"aggregate\": \"count\", \"type\": \"quantitative\"}}, \"height\": 180}, \"columns\": 1, \"transform\": [{\"filter\": {\"selection\": \"selector002\"}}]}], \"$schema\": \"https://vega.github.io/schema/vega-lite/v4.17.0.json\"}, {\"mode\": \"vega-lite\"});\n",
       "</script>"
      ],
      "text/plain": [
       "alt.HConcatChart(...)"
      ]
     },
     "execution_count": 5,
     "metadata": {},
     "output_type": "execute_result"
    }
   ],
   "source": [
    "rating = ['amazon_rating', 'goodreads_rating']\n",
    "bar = alt.Chart(books).mark_bar().encode(\n",
    "    alt.Y('count()'),\n",
    "    alt.X(alt.repeat(\"repeat\"), type ='quantitative', bin=alt.BinParams(maxbins=30))\n",
    ").properties(\n",
    "    height=180\n",
    ").repeat(\n",
    "    repeat=rating,\n",
    "    columns =1\n",
    ")\n",
    "\n",
    "scatter = alt.Chart(books).mark_circle().encode(\n",
    "    alt.X('amazon_num_reviews:Q', axis=alt.Axis(title=\"Amazon Reviews\")),\n",
    "    alt.Y('goodreads_num_ratings:Q', axis=alt.Axis(title=\"Goodreads Reviews\"))\n",
    ").properties(\n",
    "    title =\"Number of Goodreads Reviews vs Number of Amazon Reviews\"\n",
    ")\n",
    "\n",
    "brush = alt.selection_interval(\n",
    "    resolve='global'\n",
    ")\n",
    "mini_dashboard = alt.hconcat(scatter.add_selection(brush), bar.transform_filter(brush))\n",
    "mini_dashboard"
   ]
  },
  {
   "cell_type": "markdown",
   "id": "7620358b-b0eb-494d-9f44-9183f80ce537",
   "metadata": {},
   "source": [
    "## Task 3: Heatmap - What are the top book genres for the top 5 publishers with the highest occurrences? "
   ]
  },
  {
   "cell_type": "code",
   "execution_count": null,
   "id": "6f44beb2-0c8d-4440-b05a-48008b94bda9",
   "metadata": {},
   "outputs": [],
   "source": []
  },
  {
   "cell_type": "markdown",
   "id": "a1794700-3ae6-4ecd-8c2e-54ed6859e9cf",
   "metadata": {},
   "source": [
    "## Task 5: Points - How do the prices differ between Goodreads and Amazon platforms per book listed in XYZ genre(s)?"
   ]
  },
  {
   "cell_type": "code",
   "execution_count": 6,
   "id": "3720f3d8-4a63-4645-8a1a-c64b5d46895d",
   "metadata": {},
   "outputs": [
    {
     "data": {
      "text/html": [
       "\n",
       "<div id=\"altair-viz-181bed2c31e146e999fa2f655047616b\"></div>\n",
       "<script type=\"text/javascript\">\n",
       "  var VEGA_DEBUG = (typeof VEGA_DEBUG == \"undefined\") ? {} : VEGA_DEBUG;\n",
       "  (function(spec, embedOpt){\n",
       "    let outputDiv = document.currentScript.previousElementSibling;\n",
       "    if (outputDiv.id !== \"altair-viz-181bed2c31e146e999fa2f655047616b\") {\n",
       "      outputDiv = document.getElementById(\"altair-viz-181bed2c31e146e999fa2f655047616b\");\n",
       "    }\n",
       "    const paths = {\n",
       "      \"vega\": \"https://cdn.jsdelivr.net/npm//vega@5?noext\",\n",
       "      \"vega-lib\": \"https://cdn.jsdelivr.net/npm//vega-lib?noext\",\n",
       "      \"vega-lite\": \"https://cdn.jsdelivr.net/npm//vega-lite@4.17.0?noext\",\n",
       "      \"vega-embed\": \"https://cdn.jsdelivr.net/npm//vega-embed@6?noext\",\n",
       "    };\n",
       "\n",
       "    function maybeLoadScript(lib, version) {\n",
       "      var key = `${lib.replace(\"-\", \"\")}_version`;\n",
       "      return (VEGA_DEBUG[key] == version) ?\n",
       "        Promise.resolve(paths[lib]) :\n",
       "        new Promise(function(resolve, reject) {\n",
       "          var s = document.createElement('script');\n",
       "          document.getElementsByTagName(\"head\")[0].appendChild(s);\n",
       "          s.async = true;\n",
       "          s.onload = () => {\n",
       "            VEGA_DEBUG[key] = version;\n",
       "            return resolve(paths[lib]);\n",
       "          };\n",
       "          s.onerror = () => reject(`Error loading script: ${paths[lib]}`);\n",
       "          s.src = paths[lib];\n",
       "        });\n",
       "    }\n",
       "\n",
       "    function showError(err) {\n",
       "      outputDiv.innerHTML = `<div class=\"error\" style=\"color:red;\">${err}</div>`;\n",
       "      throw err;\n",
       "    }\n",
       "\n",
       "    function displayChart(vegaEmbed) {\n",
       "      vegaEmbed(outputDiv, spec, embedOpt)\n",
       "        .catch(err => showError(`Javascript Error: ${err.message}<br>This usually means there's a typo in your chart specification. See the javascript console for the full traceback.`));\n",
       "    }\n",
       "\n",
       "    if(typeof define === \"function\" && define.amd) {\n",
       "      requirejs.config({paths});\n",
       "      require([\"vega-embed\"], displayChart, err => showError(`Error loading script: ${err.message}`));\n",
       "    } else {\n",
       "      maybeLoadScript(\"vega\", \"5\")\n",
       "        .then(() => maybeLoadScript(\"vega-lite\", \"4.17.0\"))\n",
       "        .then(() => maybeLoadScript(\"vega-embed\", \"6\"))\n",
       "        .catch(showError)\n",
       "        .then(() => displayChart(vegaEmbed));\n",
       "    }\n",
       "  })({\"config\": {\"view\": {\"continuousWidth\": 400, \"continuousHeight\": 300}}, \"layer\": [{\"mark\": \"point\", \"encoding\": {\"color\": {\"value\": \"#ff9900\"}, \"x\": {\"field\": \"title\", \"type\": \"nominal\"}, \"y\": {\"field\": \"amazon_price\", \"type\": \"quantitative\"}}}, {\"mark\": \"point\", \"encoding\": {\"color\": {\"value\": \"#75420e\"}, \"x\": {\"field\": \"title\", \"type\": \"nominal\"}, \"y\": {\"field\": \"goodreads_price\", \"type\": \"quantitative\"}}}], \"data\": {\"url\": \"http://localhost:54390/ccffcd942a5355b2d907e4af7b8dd9ad.json\"}, \"$schema\": \"https://vega.github.io/schema/vega-lite/v4.17.0.json\"}, {\"mode\": \"vega-lite\"});\n",
       "</script>"
      ],
      "text/plain": [
       "alt.LayerChart(...)"
      ]
     },
     "execution_count": 6,
     "metadata": {},
     "output_type": "execute_result"
    }
   ],
   "source": [
    "column_subset = ['amazon_price', 'goodreads_price']\n",
    "\n",
    "# retain rows only if both amazon_price and goodreads_price are there, otherwise drop all NaN rows\n",
    "books_prices = books.dropna(subset=column_subset, how='any')\n",
    "# sort the books by title and amazon_prices \n",
    "books_prices = books_prices.sort_values(by=[\"title\", \"amazon_price\"], ascending=False)\n",
    "books_prices = books_prices.drop_duplicates(subset=[\"title\"])\n",
    "# books_prices.info()\n",
    "\n",
    "amzn_chart = alt.Chart(books_prices).mark_point().encode(\n",
    "    alt.X(\"title\"),\n",
    "    alt.Y(\"amazon_price\"),\n",
    "    color = alt.value('#ff9900')\n",
    ")\n",
    "\n",
    "gr_chart = alt.Chart(books_prices).mark_point().encode(\n",
    "    alt.X(\"title\"),\n",
    "    alt.Y(\"goodreads_price\"),\n",
    "    color = alt.value('#75420e')\n",
    ")\n",
    "\n",
    "amzn_chart + gr_chart"
   ]
  },
  {
   "cell_type": "code",
   "execution_count": null,
   "id": "5dd42081-39d0-498b-b585-bc6c41e161e9",
   "metadata": {},
   "outputs": [],
   "source": []
  },
  {
   "cell_type": "code",
   "execution_count": 7,
   "id": "b11de060-d655-43f5-97be-35591c2864de",
   "metadata": {},
   "outputs": [
    {
     "data": {
      "text/html": [
       "\n",
       "<div id=\"altair-viz-0637989e9bb9431899e1130c602d9fe4\"></div>\n",
       "<script type=\"text/javascript\">\n",
       "  var VEGA_DEBUG = (typeof VEGA_DEBUG == \"undefined\") ? {} : VEGA_DEBUG;\n",
       "  (function(spec, embedOpt){\n",
       "    let outputDiv = document.currentScript.previousElementSibling;\n",
       "    if (outputDiv.id !== \"altair-viz-0637989e9bb9431899e1130c602d9fe4\") {\n",
       "      outputDiv = document.getElementById(\"altair-viz-0637989e9bb9431899e1130c602d9fe4\");\n",
       "    }\n",
       "    const paths = {\n",
       "      \"vega\": \"https://cdn.jsdelivr.net/npm//vega@5?noext\",\n",
       "      \"vega-lib\": \"https://cdn.jsdelivr.net/npm//vega-lib?noext\",\n",
       "      \"vega-lite\": \"https://cdn.jsdelivr.net/npm//vega-lite@4.17.0?noext\",\n",
       "      \"vega-embed\": \"https://cdn.jsdelivr.net/npm//vega-embed@6?noext\",\n",
       "    };\n",
       "\n",
       "    function maybeLoadScript(lib, version) {\n",
       "      var key = `${lib.replace(\"-\", \"\")}_version`;\n",
       "      return (VEGA_DEBUG[key] == version) ?\n",
       "        Promise.resolve(paths[lib]) :\n",
       "        new Promise(function(resolve, reject) {\n",
       "          var s = document.createElement('script');\n",
       "          document.getElementsByTagName(\"head\")[0].appendChild(s);\n",
       "          s.async = true;\n",
       "          s.onload = () => {\n",
       "            VEGA_DEBUG[key] = version;\n",
       "            return resolve(paths[lib]);\n",
       "          };\n",
       "          s.onerror = () => reject(`Error loading script: ${paths[lib]}`);\n",
       "          s.src = paths[lib];\n",
       "        });\n",
       "    }\n",
       "\n",
       "    function showError(err) {\n",
       "      outputDiv.innerHTML = `<div class=\"error\" style=\"color:red;\">${err}</div>`;\n",
       "      throw err;\n",
       "    }\n",
       "\n",
       "    function displayChart(vegaEmbed) {\n",
       "      vegaEmbed(outputDiv, spec, embedOpt)\n",
       "        .catch(err => showError(`Javascript Error: ${err.message}<br>This usually means there's a typo in your chart specification. See the javascript console for the full traceback.`));\n",
       "    }\n",
       "\n",
       "    if(typeof define === \"function\" && define.amd) {\n",
       "      requirejs.config({paths});\n",
       "      require([\"vega-embed\"], displayChart, err => showError(`Error loading script: ${err.message}`));\n",
       "    } else {\n",
       "      maybeLoadScript(\"vega\", \"5\")\n",
       "        .then(() => maybeLoadScript(\"vega-lite\", \"4.17.0\"))\n",
       "        .then(() => maybeLoadScript(\"vega-embed\", \"6\"))\n",
       "        .catch(showError)\n",
       "        .then(() => displayChart(vegaEmbed));\n",
       "    }\n",
       "  })({\"config\": {\"view\": {\"continuousWidth\": 400, \"continuousHeight\": 300}}, \"data\": {\"url\": \"http://localhost:54390/ccffcd942a5355b2d907e4af7b8dd9ad.json\"}, \"mark\": \"point\", \"encoding\": {\"color\": {\"value\": \"#75420e\"}, \"x\": {\"field\": \"title\", \"type\": \"nominal\"}, \"y\": {\"field\": \"goodreads_price\", \"type\": \"quantitative\"}}, \"$schema\": \"https://vega.github.io/schema/vega-lite/v4.17.0.json\"}, {\"mode\": \"vega-lite\"});\n",
       "</script>"
      ],
      "text/plain": [
       "alt.Chart(...)"
      ]
     },
     "execution_count": 7,
     "metadata": {},
     "output_type": "execute_result"
    }
   ],
   "source": [
    "gr_chart"
   ]
  }
 ],
 "metadata": {
  "kernelspec": {
   "display_name": "Python 3 (ipykernel)",
   "language": "python",
   "name": "python3"
  },
  "language_info": {
   "codemirror_mode": {
    "name": "ipython",
    "version": 3
   },
   "file_extension": ".py",
   "mimetype": "text/x-python",
   "name": "python",
   "nbconvert_exporter": "python",
   "pygments_lexer": "ipython3",
   "version": "3.10.8"
  }
 },
 "nbformat": 4,
 "nbformat_minor": 5
}
