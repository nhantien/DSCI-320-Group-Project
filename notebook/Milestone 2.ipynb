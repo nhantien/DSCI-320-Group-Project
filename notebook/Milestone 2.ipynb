{
 "cells": [
  {
   "cell_type": "code",
   "execution_count": null,
   "id": "c8328d14-6d19-489d-aa3d-cadd8d3a6f6d",
   "metadata": {},
   "outputs": [],
   "source": [
    "import numpy as np\n",
    "import pandas as pd\n",
    "import altair as alt\n",
    "from altair import datum\n",
    "import ast\n",
    "from datetime import datetime\n",
    "\n",
    "\n",
    "# Handle large data sets without embedding them in the notebook\n",
    "alt.data_transformers.enable('data_server')\n",
    "# # Include an image for each plot since Gradescope only supports displaying plots as images\n",
    "# alt.renderers.enable('mimetype')"
   ]
  },
  {
   "cell_type": "code",
   "execution_count": null,
   "id": "bb9184e9-4978-4f8e-af2a-4b44c70d0e8e",
   "metadata": {},
   "outputs": [],
   "source": [
    "url = \"https://github.com/kemiolamudzengi/dsci-320-datasets/blob/main/amazon_conlit_goodreads_nyt.csv?raw=true\"\n",
    "books = pd.read_csv(url, parse_dates=['amazon_year', 'conlit_pubdate', 'nyt_published_date',\n",
    "                                      'goodreads_publish_date', 'goodreads_first_publish_date'\n",
    "                                     ] )"
   ]
  },
  {
   "cell_type": "code",
   "execution_count": null,
   "id": "43e7cdf6-5c4c-428d-9915-93522ec8d42d",
   "metadata": {},
   "outputs": [],
   "source": [
    "books['conlit_pubyear'] = books['conlit_pubdate'].dt.year\n",
    "\n",
    "dropdown_options = sorted(\n",
    "    books['conlit_pubyear'].dropna().unique(), \n",
    "    reverse=True\n",
    ")\n",
    "\n",
    "year_selector = alt.binding_select(\n",
    "    options=dropdown_options,\n",
    "    name = 'Year: '\n",
    ")\n",
    "year_dropdown = alt.selection_single(\n",
    "    fields=['conlit_pubyear'], \n",
    "    bind=year_selector\n",
    ")\n",
    "## line chart over time\n",
    "\n",
    "genre_line = alt.Chart(books.dropna(subset=['conlit_genre'])).mark_line().encode(\n",
    "    alt.X('year(conlit_pubdate):O'),\n",
    "    alt.Y('count()'),\n",
    "    alt.Color('conlit_genre')\n",
    ").properties(\n",
    "    width = 600,\n",
    "    height = 250\n",
    ")\n",
    "# bar chart\n",
    "genre_bar = alt.Chart(books.dropna(subset=['conlit_genre'])).transform_filter(\n",
    "    year_dropdown\n",
    ").mark_bar().encode(\n",
    "    alt.X('count()', axis=alt.Axis(tickMinStep=1)),\n",
    "    alt.Y('conlit_genre', sort='-x')\n",
    ").add_selection(\n",
    "    year_dropdown\n",
    ").properties(\n",
    "    width=600,\n",
    "    height=250\n",
    ")"
   ]
  },
  {
   "cell_type": "code",
   "execution_count": null,
   "id": "2699ca27-00d3-47c1-8586-e5df1d7da7e7",
   "metadata": {},
   "outputs": [],
   "source": [
    "genre_line & genre_bar"
   ]
  }
 ],
 "metadata": {
  "kernelspec": {
   "display_name": "Python [conda env:d320]",
   "language": "python",
   "name": "conda-env-d320-py"
  },
  "language_info": {
   "codemirror_mode": {
    "name": "ipython",
    "version": 3
   },
   "file_extension": ".py",
   "mimetype": "text/x-python",
   "name": "python",
   "nbconvert_exporter": "python",
   "pygments_lexer": "ipython3",
   "version": "3.9.15"
  }
 },
 "nbformat": 4,
 "nbformat_minor": 5
}
